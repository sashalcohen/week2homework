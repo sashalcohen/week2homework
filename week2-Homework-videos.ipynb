{
 "cells": [
  {
   "cell_type": "markdown",
   "id": "50e2142a",
   "metadata": {},
   "source": [
    "This is a repo where I will practice the skills from the videos assigned this week. \n",
    "\n",
    "FIRST VID\n",
    "notes: \n",
    "-order matters\n",
    "- list.append()---> will add something to the end of your list\n",
    "- list.pop() ---> will remove the last item of the list\n",
    "- in -->boolean value\n",
    "\n",
    "SECOND VID\n"
   ]
  },
  {
   "cell_type": "code",
   "execution_count": 2,
   "id": "8338ed45",
   "metadata": {},
   "outputs": [
    {
     "data": {
      "text/plain": [
       "[4, 8, 15, 23, 42]"
      ]
     },
     "execution_count": 2,
     "metadata": {},
     "output_type": "execute_result"
    }
   ],
   "source": [
    "[4, 8, 15, 23, 42]"
   ]
  },
  {
   "cell_type": "code",
   "execution_count": 3,
   "id": "a65f2040",
   "metadata": {},
   "outputs": [
    {
     "data": {
      "text/plain": [
       "[True, False, True, False]"
      ]
     },
     "execution_count": 3,
     "metadata": {},
     "output_type": "execute_result"
    }
   ],
   "source": [
    "[True, False, True, False]"
   ]
  },
  {
   "cell_type": "code",
   "execution_count": 5,
   "id": "a483dd7e",
   "metadata": {},
   "outputs": [],
   "source": [
    "party_attendees = [\"michael\", \"freddie\", \"jason\"]"
   ]
  },
  {
   "cell_type": "code",
   "execution_count": 7,
   "id": "9630fbbf",
   "metadata": {},
   "outputs": [
    {
     "data": {
      "text/plain": [
       "6"
      ]
     },
     "execution_count": 7,
     "metadata": {},
     "output_type": "execute_result"
    }
   ],
   "source": [
    "len(\"python\")"
   ]
  },
  {
   "cell_type": "code",
   "execution_count": 8,
   "id": "7282f50f",
   "metadata": {},
   "outputs": [
    {
     "data": {
      "text/plain": [
       "3"
      ]
     },
     "execution_count": 8,
     "metadata": {},
     "output_type": "execute_result"
    }
   ],
   "source": [
    "len(party_attendees)"
   ]
  },
  {
   "cell_type": "code",
   "execution_count": 9,
   "id": "7d5b961c",
   "metadata": {},
   "outputs": [
    {
     "data": {
      "text/plain": [
       "list"
      ]
     },
     "execution_count": 9,
     "metadata": {},
     "output_type": "execute_result"
    }
   ],
   "source": [
    "type(party_attendees)"
   ]
  },
  {
   "cell_type": "code",
   "execution_count": 11,
   "id": "0a8b3631",
   "metadata": {},
   "outputs": [],
   "source": [
    "presidents = [\"Washington\", \"Jefferson\"]"
   ]
  },
  {
   "cell_type": "code",
   "execution_count": 12,
   "id": "2e7362f8",
   "metadata": {},
   "outputs": [],
   "source": [
    "presidents.append(\"Madison\")"
   ]
  },
  {
   "cell_type": "code",
   "execution_count": 13,
   "id": "b0b4c433",
   "metadata": {},
   "outputs": [
    {
     "data": {
      "text/plain": [
       "['Washington', 'Jefferson', 'Madison']"
      ]
     },
     "execution_count": 13,
     "metadata": {},
     "output_type": "execute_result"
    }
   ],
   "source": [
    "presidents"
   ]
  },
  {
   "cell_type": "code",
   "execution_count": 14,
   "id": "69f137b8",
   "metadata": {},
   "outputs": [],
   "source": [
    "popcorn = [\"salted\",\"cheddar\",\"caramel\"]"
   ]
  },
  {
   "cell_type": "code",
   "execution_count": 17,
   "id": "cba99b14",
   "metadata": {},
   "outputs": [
    {
     "data": {
      "text/plain": [
       "'caramel'"
      ]
     },
     "execution_count": 17,
     "metadata": {},
     "output_type": "execute_result"
    }
   ],
   "source": [
    "popcorn.pop()"
   ]
  },
  {
   "cell_type": "code",
   "execution_count": 18,
   "id": "314eed1e",
   "metadata": {},
   "outputs": [
    {
     "data": {
      "text/plain": [
       "['salted', 'cheddar']"
      ]
     },
     "execution_count": 18,
     "metadata": {},
     "output_type": "execute_result"
    }
   ],
   "source": [
    "popcorn"
   ]
  },
  {
   "cell_type": "code",
   "execution_count": 20,
   "id": "4ed2a756",
   "metadata": {},
   "outputs": [
    {
     "data": {
      "text/plain": [
       "['mercury', 'venus', 'earth', 'mars']"
      ]
     },
     "execution_count": 20,
     "metadata": {},
     "output_type": "execute_result"
    }
   ],
   "source": [
    "planets = [\"mercury\", \"venus\",\"earth\", \"mars\"]\n",
    "planets"
   ]
  },
  {
   "cell_type": "code",
   "execution_count": 21,
   "id": "74869ef7",
   "metadata": {},
   "outputs": [
    {
     "data": {
      "text/plain": [
       "True"
      ]
     },
     "execution_count": 21,
     "metadata": {},
     "output_type": "execute_result"
    }
   ],
   "source": [
    "\"earth\" in planets"
   ]
  },
  {
   "cell_type": "code",
   "execution_count": 22,
   "id": "884bbca9",
   "metadata": {},
   "outputs": [
    {
     "data": {
      "text/plain": [
       "True"
      ]
     },
     "execution_count": 22,
     "metadata": {},
     "output_type": "execute_result"
    }
   ],
   "source": [
    "\"pluto\" not in planets"
   ]
  },
  {
   "cell_type": "code",
   "execution_count": null,
   "id": "33757aac",
   "metadata": {},
   "outputs": [],
   "source": []
  }
 ],
 "metadata": {
  "kernelspec": {
   "display_name": "Python 3 (ipykernel)",
   "language": "python",
   "name": "python3"
  },
  "language_info": {
   "codemirror_mode": {
    "name": "ipython",
    "version": 3
   },
   "file_extension": ".py",
   "mimetype": "text/x-python",
   "name": "python",
   "nbconvert_exporter": "python",
   "pygments_lexer": "ipython3",
   "version": "3.11.5"
  }
 },
 "nbformat": 4,
 "nbformat_minor": 5
}
