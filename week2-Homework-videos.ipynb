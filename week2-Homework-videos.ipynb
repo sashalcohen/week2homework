{
 "cells": [
  {
   "cell_type": "markdown",
   "id": "d9473383",
   "metadata": {},
   "source": [
    "This is a repo where I will practice the skills from the videos assigned this week. \n",
    "\n",
    "FIRST VID\n",
    "notes: \n",
    "-order matters\n",
    "- list.append()---> will add something to the end of your list\n",
    "- list.pop() ---> will remove the last item of the list\n",
    "- in -->boolean value\n",
    "\n",
    "SECOND VID\n"
   ]
  },
  {
   "cell_type": "markdown",
   "id": "c6f72a4a",
   "metadata": {},
   "source": [
    "# LISTS"
   ]
  },
  {
   "cell_type": "code",
   "execution_count": 2,
   "id": "738bf0ad",
   "metadata": {},
   "outputs": [
    {
     "data": {
      "text/plain": [
       "[4, 8, 15, 23, 42]"
      ]
     },
     "execution_count": 2,
     "metadata": {},
     "output_type": "execute_result"
    }
   ],
   "source": [
    "[4, 8, 15, 23, 42]"
   ]
  },
  {
   "cell_type": "code",
   "execution_count": 3,
   "id": "a1f08be7",
   "metadata": {},
   "outputs": [
    {
     "data": {
      "text/plain": [
       "[True, False, True, False]"
      ]
     },
     "execution_count": 3,
     "metadata": {},
     "output_type": "execute_result"
    }
   ],
   "source": [
    "[True, False, True, False]"
   ]
  },
  {
   "cell_type": "code",
   "execution_count": 5,
   "id": "77b6da80",
   "metadata": {},
   "outputs": [],
   "source": [
    "party_attendees = [\"michael\", \"freddie\", \"jason\"]"
   ]
  },
  {
   "cell_type": "code",
   "execution_count": 7,
   "id": "d6a77c42",
   "metadata": {},
   "outputs": [
    {
     "data": {
      "text/plain": [
       "6"
      ]
     },
     "execution_count": 7,
     "metadata": {},
     "output_type": "execute_result"
    }
   ],
   "source": [
    "len(\"python\")"
   ]
  },
  {
   "cell_type": "code",
   "execution_count": 8,
   "id": "762d6009",
   "metadata": {},
   "outputs": [
    {
     "data": {
      "text/plain": [
       "3"
      ]
     },
     "execution_count": 8,
     "metadata": {},
     "output_type": "execute_result"
    }
   ],
   "source": [
    "len(party_attendees)"
   ]
  },
  {
   "cell_type": "code",
   "execution_count": 9,
   "id": "980515d7",
   "metadata": {},
   "outputs": [
    {
     "data": {
      "text/plain": [
       "list"
      ]
     },
     "execution_count": 9,
     "metadata": {},
     "output_type": "execute_result"
    }
   ],
   "source": [
    "type(party_attendees)"
   ]
  },
  {
   "cell_type": "code",
   "execution_count": 11,
   "id": "50efaa23",
   "metadata": {},
   "outputs": [],
   "source": [
    "presidents = [\"Washington\", \"Jefferson\"]"
   ]
  },
  {
   "cell_type": "code",
   "execution_count": 12,
   "id": "c36634e0",
   "metadata": {},
   "outputs": [],
   "source": [
    "presidents.append(\"Madison\")"
   ]
  },
  {
   "cell_type": "code",
   "execution_count": 13,
   "id": "a25a94ea",
   "metadata": {},
   "outputs": [
    {
     "data": {
      "text/plain": [
       "['Washington', 'Jefferson', 'Madison']"
      ]
     },
     "execution_count": 13,
     "metadata": {},
     "output_type": "execute_result"
    }
   ],
   "source": [
    "presidents"
   ]
  },
  {
   "cell_type": "code",
   "execution_count": 14,
   "id": "ed734ef8",
   "metadata": {},
   "outputs": [],
   "source": [
    "popcorn = [\"salted\",\"cheddar\",\"caramel\"]"
   ]
  },
  {
   "cell_type": "code",
   "execution_count": 17,
   "id": "f24ff946",
   "metadata": {},
   "outputs": [
    {
     "data": {
      "text/plain": [
       "'caramel'"
      ]
     },
     "execution_count": 17,
     "metadata": {},
     "output_type": "execute_result"
    }
   ],
   "source": [
    "popcorn.pop()"
   ]
  },
  {
   "cell_type": "code",
   "execution_count": 18,
   "id": "6303fb99",
   "metadata": {},
   "outputs": [
    {
     "data": {
      "text/plain": [
       "['salted', 'cheddar']"
      ]
     },
     "execution_count": 18,
     "metadata": {},
     "output_type": "execute_result"
    }
   ],
   "source": [
    "popcorn"
   ]
  },
  {
   "cell_type": "code",
   "execution_count": 20,
   "id": "3d05382d",
   "metadata": {},
   "outputs": [
    {
     "data": {
      "text/plain": [
       "['mercury', 'venus', 'earth', 'mars']"
      ]
     },
     "execution_count": 20,
     "metadata": {},
     "output_type": "execute_result"
    }
   ],
   "source": [
    "planets = [\"mercury\", \"venus\",\"earth\", \"mars\"]\n",
    "planets"
   ]
  },
  {
   "cell_type": "code",
   "execution_count": 21,
   "id": "2f7f7c16",
   "metadata": {},
   "outputs": [
    {
     "data": {
      "text/plain": [
       "True"
      ]
     },
     "execution_count": 21,
     "metadata": {},
     "output_type": "execute_result"
    }
   ],
   "source": [
    "\"earth\" in planets"
   ]
  },
  {
   "cell_type": "code",
   "execution_count": 22,
   "id": "860286fc",
   "metadata": {},
   "outputs": [
    {
     "data": {
      "text/plain": [
       "True"
      ]
     },
     "execution_count": 22,
     "metadata": {},
     "output_type": "execute_result"
    }
   ],
   "source": [
    "\"pluto\" not in planets"
   ]
  },
  {
   "cell_type": "markdown",
   "id": "0f808764",
   "metadata": {},
   "source": [
    "# INDEX POSITION AND SLICING\n",
    "\n",
    "-every letter in a string has a unique numerical identifier, but python starts counting at zero"
   ]
  },
  {
   "cell_type": "code",
   "execution_count": 23,
   "id": "1fc95c95",
   "metadata": {},
   "outputs": [],
   "source": [
    "hero= \"spiderman\""
   ]
  },
  {
   "cell_type": "code",
   "execution_count": 24,
   "id": "5733147f",
   "metadata": {},
   "outputs": [
    {
     "data": {
      "text/plain": [
       "9"
      ]
     },
     "execution_count": 24,
     "metadata": {},
     "output_type": "execute_result"
    }
   ],
   "source": [
    "len(hero)"
   ]
  },
  {
   "cell_type": "markdown",
   "id": "80d64c43",
   "metadata": {},
   "source": [
    "s p i d e r m a n\n",
    "0 1 2 3 4 5 6 7 8\n",
    "\n",
    "-these numberic values are called index positions\n",
    "-the last index position will always be one less than the length of the string (because it starts at zero)\n",
    "-to pull out a specific character, do hero[number of index position you want to pull]\n",
    "-if you input an index position that's higher than the length it will return an error"
   ]
  },
  {
   "cell_type": "code",
   "execution_count": 27,
   "id": "7ff34a08",
   "metadata": {},
   "outputs": [
    {
     "data": {
      "text/plain": [
       "'r'"
      ]
     },
     "execution_count": 27,
     "metadata": {},
     "output_type": "execute_result"
    }
   ],
   "source": [
    "hero[0]\n",
    "hero[5]"
   ]
  },
  {
   "cell_type": "markdown",
   "id": "7ec57b3e",
   "metadata": {},
   "source": [
    "for indexing, using a negative number pulls from the end of a string"
   ]
  },
  {
   "cell_type": "code",
   "execution_count": 28,
   "id": "cfa728b7",
   "metadata": {},
   "outputs": [
    {
     "data": {
      "text/plain": [
       "'n'"
      ]
     },
     "execution_count": 28,
     "metadata": {},
     "output_type": "execute_result"
    }
   ],
   "source": [
    "hero[-1]"
   ]
  },
  {
   "cell_type": "code",
   "execution_count": 29,
   "id": "96e41e05",
   "metadata": {},
   "outputs": [
    {
     "data": {
      "text/plain": [
       "'r'"
      ]
     },
     "execution_count": 29,
     "metadata": {},
     "output_type": "execute_result"
    }
   ],
   "source": [
    "hero[-4]"
   ]
  },
  {
   "cell_type": "markdown",
   "id": "eddf277b",
   "metadata": {},
   "source": [
    "to get first letter, do negative of the length "
   ]
  },
  {
   "cell_type": "code",
   "execution_count": 30,
   "id": "7badb4fa",
   "metadata": {},
   "outputs": [
    {
     "data": {
      "text/plain": [
       "'s'"
      ]
     },
     "execution_count": 30,
     "metadata": {},
     "output_type": "execute_result"
    }
   ],
   "source": [
    "hero[-9]"
   ]
  },
  {
   "cell_type": "markdown",
   "id": "abfdc5d5",
   "metadata": {},
   "source": [
    "SLICES: allows us to extract a chunk of the string, a subset of the string\n",
    "\n",
    "syntax: hero[1:3] --> will return a two letter string\n",
    "index position before the second bracket is NOT included, index position after first bracket is included\n",
    "subtract ending index pos from starting index pos to get the length \n",
    "\n"
   ]
  },
  {
   "cell_type": "code",
   "execution_count": 32,
   "id": "8ce31e46",
   "metadata": {},
   "outputs": [
    {
     "data": {
      "text/plain": [
       "'ider'"
      ]
     },
     "execution_count": 32,
     "metadata": {},
     "output_type": "execute_result"
    }
   ],
   "source": [
    "hero[1:3]\n",
    "hero[2:6]"
   ]
  },
  {
   "cell_type": "markdown",
   "id": "483e2b9b",
   "metadata": {},
   "source": [
    "-shortcut for starting to index from the beginning of the string: just don't include the first zero\n",
    "-shortcut for going all the way to the end of a string, just don't include the number before the bracket\n",
    "-an absent value on either side of the colon means go to that value\n",
    "-you can use positive and negative indexing in the same pulling of characters\n",
    "-if you index far beyond the end of the string, it won't return error it will just retturn everything until the end of the string"
   ]
  },
  {
   "cell_type": "code",
   "execution_count": 34,
   "id": "5e9b63f6",
   "metadata": {},
   "outputs": [
    {
     "data": {
      "text/plain": [
       "'spider'"
      ]
     },
     "execution_count": 34,
     "metadata": {},
     "output_type": "execute_result"
    }
   ],
   "source": [
    "hero[0:6]\n",
    "\n",
    "#is the same as\n",
    "\n",
    "hero[:6]"
   ]
  },
  {
   "cell_type": "code",
   "execution_count": 36,
   "id": "96a69ce5",
   "metadata": {},
   "outputs": [
    {
     "data": {
      "text/plain": [
       "'derman'"
      ]
     },
     "execution_count": 36,
     "metadata": {},
     "output_type": "execute_result"
    }
   ],
   "source": [
    "hero[3:100]\n",
    "hero[3:]"
   ]
  },
  {
   "cell_type": "markdown",
   "id": "63b99da9",
   "metadata": {},
   "source": [
    "EXACT SAME PRINCIPLES APPLY TO LISTS"
   ]
  },
  {
   "cell_type": "code",
   "execution_count": 40,
   "id": "8d765af0",
   "metadata": {},
   "outputs": [
    {
     "data": {
      "text/plain": [
       "['Batman', 'Superman', 'Wolverine', 'Ironman']"
      ]
     },
     "execution_count": 40,
     "metadata": {},
     "output_type": "execute_result"
    }
   ],
   "source": [
    "superheroes = [\"Batman\", \"Superman\", \"Wolverine\", \"Ironman\",]\n",
    "superheroes"
   ]
  },
  {
   "cell_type": "code",
   "execution_count": 41,
   "id": "874e5519",
   "metadata": {},
   "outputs": [
    {
     "data": {
      "text/plain": [
       "'Batman'"
      ]
     },
     "execution_count": 41,
     "metadata": {},
     "output_type": "execute_result"
    }
   ],
   "source": [
    "superheroes[0]"
   ]
  },
  {
   "cell_type": "code",
   "execution_count": 43,
   "id": "c5c0524a",
   "metadata": {},
   "outputs": [
    {
     "data": {
      "text/plain": [
       "'Ironman'"
      ]
     },
     "execution_count": 43,
     "metadata": {},
     "output_type": "execute_result"
    }
   ],
   "source": [
    "superheroes[-1]"
   ]
  },
  {
   "cell_type": "code",
   "execution_count": 45,
   "id": "f8868541",
   "metadata": {},
   "outputs": [
    {
     "data": {
      "text/plain": [
       "['Superman', 'Wolverine']"
      ]
     },
     "execution_count": 45,
     "metadata": {},
     "output_type": "execute_result"
    }
   ],
   "source": [
    "superheroes[1:3]"
   ]
  },
  {
   "cell_type": "code",
   "execution_count": 46,
   "id": "7aa58353",
   "metadata": {},
   "outputs": [
    {
     "data": {
      "text/plain": [
       "'Wolverine'"
      ]
     },
     "execution_count": 46,
     "metadata": {},
     "output_type": "execute_result"
    }
   ],
   "source": [
    "superheroes[-2]"
   ]
  },
  {
   "cell_type": "code",
   "execution_count": 47,
   "id": "7c11c97d",
   "metadata": {},
   "outputs": [
    {
     "data": {
      "text/plain": [
       "['Ironman']"
      ]
     },
     "execution_count": 47,
     "metadata": {},
     "output_type": "execute_result"
    }
   ],
   "source": [
    "superheroes[3:100]"
   ]
  },
  {
   "cell_type": "code",
   "execution_count": 48,
   "id": "bf3a755f",
   "metadata": {},
   "outputs": [
    {
     "data": {
      "text/plain": [
       "['Ironman']"
      ]
     },
     "execution_count": 48,
     "metadata": {},
     "output_type": "execute_result"
    }
   ],
   "source": [
    "superheroes[3:]"
   ]
  },
  {
   "cell_type": "markdown",
   "id": "f5de7b38",
   "metadata": {},
   "source": [
    "# DICTIONARIES"
   ]
  },
  {
   "cell_type": "code",
   "execution_count": 50,
   "id": "39261421",
   "metadata": {},
   "outputs": [],
   "source": [
    "menu = { \"filet mignon\": 29.99 }"
   ]
  },
  {
   "cell_type": "markdown",
   "id": "121cdfe9",
   "metadata": {},
   "source": [
    "^^ this is a dictionary with one key value pai"
   ]
  },
  {
   "cell_type": "code",
   "execution_count": 63,
   "id": "e7b21f20",
   "metadata": {},
   "outputs": [],
   "source": [
    "menu = {\"filet mignon\": 29.99, \n",
    "        \"big mac\": 3.99, \n",
    "        \"salmon\" : 29.99}"
   ]
  },
  {
   "cell_type": "markdown",
   "id": "30867883",
   "metadata": {},
   "source": [
    "cannot have the same value twice. the price can be the same for two items, but the keys must be unique.\n",
    "len(dictionary) --> returns the number of key value pairs\n",
    "if you extract menu[ X ] and X is not in the key value pairs it will return error"
   ]
  },
  {
   "cell_type": "code",
   "execution_count": 54,
   "id": "983acd9d",
   "metadata": {},
   "outputs": [
    {
     "data": {
      "text/plain": [
       "3"
      ]
     },
     "execution_count": 54,
     "metadata": {},
     "output_type": "execute_result"
    }
   ],
   "source": [
    "len(menu)"
   ]
  },
  {
   "cell_type": "code",
   "execution_count": 55,
   "id": "5c31ff79",
   "metadata": {},
   "outputs": [
    {
     "data": {
      "text/plain": [
       "3.99"
      ]
     },
     "execution_count": 55,
     "metadata": {},
     "output_type": "execute_result"
    }
   ],
   "source": [
    "menu[\"big mac\"]"
   ]
  },
  {
   "cell_type": "code",
   "execution_count": 56,
   "id": "1b28cc95",
   "metadata": {},
   "outputs": [],
   "source": [
    "menu[\"burrito\"]=13.99\n",
    "\n",
    "#adds a key value pair "
   ]
  },
  {
   "cell_type": "code",
   "execution_count": 57,
   "id": "3bfebab4",
   "metadata": {},
   "outputs": [
    {
     "data": {
      "text/plain": [
       "13.99"
      ]
     },
     "execution_count": 57,
     "metadata": {},
     "output_type": "execute_result"
    }
   ],
   "source": [
    "menu[\"burrito\"]"
   ]
  },
  {
   "cell_type": "code",
   "execution_count": 67,
   "id": "773401a9",
   "metadata": {},
   "outputs": [],
   "source": [
    "# you can over write the existing value for a key \n",
    "\n",
    "menu[\"burrito\"]= 5.99"
   ]
  },
  {
   "cell_type": "code",
   "execution_count": 68,
   "id": "36eb8bd3",
   "metadata": {},
   "outputs": [
    {
     "data": {
      "text/plain": [
       "5.99"
      ]
     },
     "execution_count": 68,
     "metadata": {},
     "output_type": "execute_result"
    }
   ],
   "source": [
    "menu[\"burrito\"]"
   ]
  },
  {
   "cell_type": "code",
   "execution_count": 64,
   "id": "cf33cd6e",
   "metadata": {},
   "outputs": [
    {
     "data": {
      "text/plain": [
       "{'filet mignon': 29.99, 'big mac': 3.99, 'salmon': 29.99}"
      ]
     },
     "execution_count": 64,
     "metadata": {},
     "output_type": "execute_result"
    }
   ],
   "source": [
    "menu"
   ]
  },
  {
   "cell_type": "code",
   "execution_count": 65,
   "id": "5cb8bf51",
   "metadata": {},
   "outputs": [
    {
     "data": {
      "text/plain": [
       "29.99"
      ]
     },
     "execution_count": 65,
     "metadata": {},
     "output_type": "execute_result"
    }
   ],
   "source": [
    "#pop works the same way as it does on a list, will remove the item from the dictionary\n",
    "\n",
    "menu.pop(\"filet mignon\")"
   ]
  },
  {
   "cell_type": "code",
   "execution_count": 69,
   "id": "9522a0be",
   "metadata": {},
   "outputs": [
    {
     "data": {
      "text/plain": [
       "{'big mac': 3.99, 'salmon': 29.99, 'burrito': 5.99}"
      ]
     },
     "execution_count": 69,
     "metadata": {},
     "output_type": "execute_result"
    }
   ],
   "source": [
    "menu"
   ]
  },
  {
   "cell_type": "code",
   "execution_count": 70,
   "id": "f9da1a81",
   "metadata": {},
   "outputs": [
    {
     "data": {
      "text/plain": [
       "True"
      ]
     },
     "execution_count": 70,
     "metadata": {},
     "output_type": "execute_result"
    }
   ],
   "source": [
    "# IN and NOT IN functions work in dictionaries too \n",
    "\n",
    "\"burrito\" in menu"
   ]
  },
  {
   "cell_type": "code",
   "execution_count": 74,
   "id": "05b917ae",
   "metadata": {},
   "outputs": [
    {
     "data": {
      "text/plain": [
       "False"
      ]
     },
     "execution_count": 74,
     "metadata": {},
     "output_type": "execute_result"
    }
   ],
   "source": [
    "\"pizza\" in menu"
   ]
  },
  {
   "cell_type": "code",
   "execution_count": 75,
   "id": "b4303a91",
   "metadata": {},
   "outputs": [
    {
     "data": {
      "text/plain": [
       "False"
      ]
     },
     "execution_count": 75,
     "metadata": {},
     "output_type": "execute_result"
    }
   ],
   "source": [
    "5.99 in menu"
   ]
  },
  {
   "cell_type": "code",
   "execution_count": 72,
   "id": "89097022",
   "metadata": {},
   "outputs": [
    {
     "data": {
      "text/plain": [
       "dict_values([3.99, 29.99, 5.99])"
      ]
     },
     "execution_count": 72,
     "metadata": {},
     "output_type": "execute_result"
    }
   ],
   "source": [
    "menu.values()"
   ]
  },
  {
   "cell_type": "code",
   "execution_count": 76,
   "id": "89cc3de5",
   "metadata": {},
   "outputs": [
    {
     "data": {
      "text/plain": [
       "True"
      ]
     },
     "execution_count": 76,
     "metadata": {},
     "output_type": "execute_result"
    }
   ],
   "source": [
    "5.99 in menu.values()\n",
    "\n",
    "#does anything on the menu cost 5.99"
   ]
  },
  {
   "cell_type": "code",
   "execution_count": null,
   "id": "631dbc0e",
   "metadata": {},
   "outputs": [],
   "source": []
  }
 ],
 "metadata": {
  "kernelspec": {
   "display_name": "Python 3 (ipykernel)",
   "language": "python",
   "name": "python3"
  },
  "language_info": {
   "codemirror_mode": {
    "name": "ipython",
    "version": 3
   },
   "file_extension": ".py",
   "mimetype": "text/x-python",
   "name": "python",
   "nbconvert_exporter": "python",
   "pygments_lexer": "ipython3",
   "version": "3.11.5"
  }
 },
 "nbformat": 4,
 "nbformat_minor": 5
}
